{
 "cells": [
  {
   "cell_type": "code",
   "execution_count": 3,
   "metadata": {},
   "outputs": [],
   "source": [
    "import graphviz\n",
    "\n",
    "# Specify the path to your DOT file\n",
    "# dot_file_path = \"C:/UIC EDUCATION/CS441/HW/HW3/HotPursuit/myfirstplayproject/app/assets/Graph20.2.ngs.dot\"\n",
    "# dot_file_path = \"C:/UIC EDUCATION/CS441/HW/MapReduce - HW1/GraphEquivalence/outputs/shards/Net Graph - shard0.ngs.dot\"\n",
    "dot_file_path = \"C:/UIC EDUCATION/CS553/Project/AkkaWaveSim/input/Graph100.ngs.dot\"\n",
    "\n",
    "# Read and parse the DOT file\n",
    "graph = graphviz.Source.from_file(dot_file_path)\n",
    "\n",
    "# Display the parsed graph\n",
    "graph.view()\n",
    "# Save the parsed graph as a PDF file\n",
    "graph.render(filename=\"Graph100.ngs.dot\", format=\"pdf\")"
   ]
  }
 ],
 "metadata": {
  "kernelspec": {
   "display_name": "base",
   "language": "python",
   "name": "python3"
  },
  "language_info": {
   "codemirror_mode": {
    "name": "ipython",
    "version": 3
   },
   "file_extension": ".py",
   "mimetype": "text/x-python",
   "name": "python",
   "nbconvert_exporter": "python",
   "pygments_lexer": "ipython3",
   "version": "3.11.4"
  },
  "orig_nbformat": 4
 },
 "nbformat": 4,
 "nbformat_minor": 2
}
